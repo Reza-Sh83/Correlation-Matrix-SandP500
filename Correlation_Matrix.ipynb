{
 "cells": [
  {
   "cell_type": "markdown",
   "metadata": {},
   "source": [
    "# Stock Data Correlation Analysis\n",
    "\n",
    "This notebook performs an analysis of stock market data, focusing on the calculation of normalized returns and correlation matrices between different companies over various time windows. We will use this analysis to generate heatmaps, visualizing the correlation between the companies.\n",
    "\n",
    "## 1. Import Libraries\n",
    "\n",
    "We begin by importing the necessary libraries for data extraction, processing, and visualization.\n",
    "- `os`: For navigating through directories and files.\n",
    "- `pandas`: To handle and manipulate structured data.\n",
    "- `numpy`: To perform numerical operations.\n",
    "- `scipy.stats`: For statistical calculations.\n",
    "- `matplotlib.pyplot`: For visualizing data using plots and heatmaps."
   ]
  },
  {
   "cell_type": "code",
   "execution_count": null,
   "metadata": {},
   "outputs": [],
   "source": [
    "import os\n",
    "import pandas as pd\n",
    "import numpy as np\n",
    "from scipy import stats\n",
    "import matplotlib.pyplot as plt"
   ]
  },
  {
   "cell_type": "markdown",
   "metadata": {},
   "source": [
    "## 2. Extract Stock Data\n",
    "\n",
    "The `extract_data` function is used to extract stock data from a folder structure where each folder represents a category, and each file inside a folder contains stock data for a company. \n",
    "\n",
    "The extracted data consists of:\n",
    "- `Date`: The date of the stock market entry.\n",
    "- `Open`: The opening stock price for that day.\n",
    "- `Close`: The closing stock price for that day."
   ]
  },
  {
   "cell_type": "code",
   "execution_count": null,
   "metadata": {},
   "outputs": [],
   "source": [
    "def extract_data(main_folder):\n",
    "    \"\"\"\n",
    "    This function extracts stock data from CSV files in the given folder structure.\n",
    "    \n",
    "    Args:\n",
    "        main_folder (str): Path to the folder containing categories of companies.\n",
    "        \n",
    "    Returns:\n",
    "        stock_data (dict): A dictionary where the keys are company names and values are dataframes containing 'Date', 'Open', and 'Close' stock prices.\n",
    "    \"\"\"\n",
    "    stock_data = {}\n",
    "    dirs = [d for d in os.listdir(main_folder) if os.path.isdir(os.path.join(main_folder, d))]\n",
    "    for category in dirs:\n",
    "        category_path = os.path.join(main_folder, category)\n",
    "        for company_file in os.listdir(category_path):\n",
    "            if company_file.endswith('.csv'):\n",
    "                company_name = company_file.split('.')[0]\n",
    "                company_path = os.path.join(category_path, company_file)\n",
    "                df = pd.read_csv(company_path)\n",
    "                df = df[['Date', 'Open', 'Close']]\n",
    "                stock_data[company_name] = df\n",
    "    return stock_data"
   ]
  },
  {
   "cell_type": "markdown",
   "metadata": {},
   "source": [
    "## 3. Calculate Normalized Returns\n",
    "\n",
    "The `calculate_normalized_returns_zero_mean` function normalizes the stock returns using a sliding window approach. We subtract the mean of the window and divide by the standard deviation to obtain a zero-mean, unit-variance normalized return."
   ]
  },
  {
   "cell_type": "code",
   "execution_count": null,
   "metadata": {},
   "outputs": [],
   "source": [
    "def calculate_normalized_returns_zero_mean(returns, window_size=13):\n",
    "    \"\"\"\n",
    "    Calculate the normalized returns r*(t) over a specified window size.\n",
    "    \n",
    "    Args:\n",
    "        returns (np.array): Array of daily returns.\n",
    "        window_size (int): The size of the sliding window.\n",
    "        \n",
    "    Returns:\n",
    "        np.array: The normalized returns for the given window size.\n",
    "    \"\"\"\n",
    "    normalized_returns = []\n",
    "    for window in np.array_split(returns, window_size):\n",
    "        for ret in window:\n",
    "            r_star_window = (ret - np.mean(window)) / np.std(window)\n",
    "            np.seterr(divide='ignore', invalid='ignore')  # Ignore divide by zero warnings\n",
    "            normalized_returns.append(r_star_window)\n",
    "    return stats.zscore(np.asarray(normalized_returns))  # Return as z-scores for better normalization"
   ]
  },
  {
   "cell_type": "markdown",
   "metadata": {},
   "source": [
    "## 4. Calculate Correlation Coefficient Matrices\n",
    "\n",
    "The `calculate_correlation_matrices_per_window` function computes the correlation coefficient matrix for multiple companies over a series of time windows. Each window contains a fixed number of days (44 days in this case), and the function outputs a list of correlation matrices for each time window."
   ]
  },
  {
   "cell_type": "code",
   "execution_count": null,
   "metadata": {},
   "outputs": [],
   "source": [
    "def calculate_correlation_matrices_per_window(stock_data, window_size=44):\n",
    "    \"\"\"\n",
    "    Calculate the correlation coefficient matrices for multiple companies over different time windows.\n",
    "    \n",
    "    Args:\n",
    "        stock_data (dict): A dictionary of stock dataframes with normalized returns.\n",
    "        window_size (int): The size of each time window for correlation calculations.\n",
    "        \n",
    "    Returns:\n",
    "        list: A list of correlation matrices (dataframes) for each window.\n",
    "    \"\"\"\n",
    "    company_names = list(stock_data.keys())\n",
    "    num_companies = len(company_names)\n",
    "    correlation_matrices = []\n",
    "\n",
    "    first_company = company_names[0]\n",
    "    windows_count = len(stock_data[first_company]['Normalized_Return']) // window_size\n",
    "    \n",
    "    for win_num in range(windows_count):\n",
    "        correlation_matrix = np.zeros((num_companies, num_companies))\n",
    "        for i in range(num_companies):\n",
    "            for j in range(i, num_companies):\n",
    "                df_i = stock_data[company_names[i]]\n",
    "                df_j = stock_data[company_names[j]]\n",
    "\n",
    "                window_i = np.array_split(df_i['Normalized_Return'].values, len(df_i) // window_size)\n",
    "                window_j = np.array_split(df_j['Normalized_Return'].values, len(df_j) // window_size)\n",
    "\n",
    "                if len(window_i[win_num]) > 1 and len(window_j[win_num]) > 1:\n",
    "                    Cij_num_win = np.corrcoef(window_i[win_num], window_j[win_num])[0][1]\n",
    "                else:\n",
    "                    Cij_num_win = np.nan\n",
    "\n",
    "                correlation_matrix[i, j] = Cij_num_win\n",
    "                correlation_matrix[j, i] = Cij_num_win\n",
    "        correlation_matrices.append(pd.DataFrame(correlation_matrix, index=company_names, columns=company_names))\n",
    "\n",
    "    return correlation_matrices\n"
   ]
  },
  {
   "cell_type": "markdown",
   "metadata": {},
   "source": [
    "## 5. Plot Heatmaps of Correlation Matrices\n",
    "\n",
    "The `heat_map` function generates a heatmap for each time window to visualize the correlation matrices. The heatmaps use a blue color scale to show correlations between companies, where darker colors represent higher correlations.\n"
   ]
  },
  {
   "cell_type": "code",
   "execution_count": null,
   "metadata": {},
   "outputs": [],
   "source": [
    "def heat_map(correlation_matrices, stock_data):\n",
    "    \"\"\"\n",
    "    Plot heatmaps of the correlation matrices for each time window.\n",
    "    \n",
    "    Args:\n",
    "        correlation_matrices (list): A list of correlation coefficient matrices.\n",
    "        stock_data (dict): Stock data for labeling purposes.\n",
    "    \"\"\"\n",
    "    for num, window in enumerate(correlation_matrices):\n",
    "        plt.imshow(window.to_numpy(), cmap='Blues', vmin=-1, vmax=1)\n",
    "        plt.colorbar()\n",
    "        plt.title(f\"Window {num}\")\n",
    "        plt.xlabel(\"Company\")\n",
    "        plt.ylabel(\"Company\")\n",
    "        plt.xticks([], [])\n",
    "        plt.yticks([], [])\n",
    "        plt.savefig(f'Window_{num}.png', dpi=300)\n",
    "        plt.show()"
   ]
  },
  {
   "cell_type": "markdown",
   "metadata": {},
   "source": [
    "## 6. Running the Analysis\n",
    "\n",
    "We extract the stock data, calculate returns and normalized returns, and then compute the correlation matrices for each time window. Finally, we plot the heatmaps to visualize the correlations.\n"
   ]
  },
  {
   "cell_type": "code",
   "execution_count": null,
   "metadata": {},
   "outputs": [],
   "source": [
    "# Define the path to the folder containing the stock data\n",
    "main_folder = r\"D:\\My physics project\\Econophysics\\Data\\Data_Ex2\\pure\"\n",
    "\n",
    "# Extract stock data from the folder\n",
    "stock_data = extract_data(main_folder)\n",
    "\n",
    "# Loop through each company to calculate returns and normalized returns\n",
    "for company, df in stock_data.items():\n",
    "    df['Return'] = (df['Close'] - df['Open']) / df['Open']\n",
    "    df['Normalized_Return'] = calculate_normalized_returns_zero_mean(df['Return'].values)\n",
    "\n",
    "# Calculate correlation matrices\n",
    "correlation_results = calculate_correlation_matrices_per_window(stock_data)\n",
    "\n",
    "# Plot heatmaps of the correlation matrices\n",
    "heat_map(correlation_results, stock_data)"
   ]
  }
 ],
 "metadata": {
  "kernelspec": {
   "display_name": "weaver",
   "language": "python",
   "name": "python3"
  },
  "language_info": {
   "codemirror_mode": {
    "name": "ipython",
    "version": 3
   },
   "file_extension": ".py",
   "mimetype": "text/x-python",
   "name": "python",
   "nbconvert_exporter": "python",
   "pygments_lexer": "ipython3",
   "version": "3.12.3"
  }
 },
 "nbformat": 4,
 "nbformat_minor": 2
}
